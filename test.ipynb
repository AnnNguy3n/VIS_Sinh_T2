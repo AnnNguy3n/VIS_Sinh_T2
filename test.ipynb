{
 "cells": [
  {
   "cell_type": "code",
   "execution_count": 1,
   "metadata": {},
   "outputs": [],
   "source": [
    "import pandas as pd\n",
    "import numpy as np\n",
    "\n",
    "data = pd.read_excel(\"Data_Year_HOSE_File3_DUMMY.xlsx\")"
   ]
  },
  {
   "cell_type": "code",
   "execution_count": 2,
   "metadata": {},
   "outputs": [
    {
     "name": "stdout",
     "output_type": "stream",
     "text": [
      "Các cột không được coi là biến: ['TIME', 'PROFIT', 'SYMBOL', 'EXCHANGE'].\n"
     ]
    }
   ],
   "source": [
    "from complete_geo_add_rank_diff import Complete_geo\n",
    "vis = Complete_geo(data, \"Data_CT/\", 6, 0.1, 1.1)"
   ]
  },
  {
   "cell_type": "code",
   "execution_count": 3,
   "metadata": {},
   "outputs": [
    {
     "name": "stdout",
     "output_type": "stream",
     "text": [
      "Đang chạy sinh công thức có số toán hạng là  1 . . .\n",
      "Số phần tử trong 1 cụm 1\n",
      "Đã lưu lịch sử.\n",
      "Đã lưu công thức\n",
      "Đang chạy sinh công thức có số toán hạng là  2 . . .\n",
      "Số phần tử trong 1 cụm 1\n",
      "Số phần tử trong 1 cụm 2\n",
      "Đã lưu lịch sử.\n",
      "Đã lưu công thức\n",
      "Đang chạy sinh công thức có số toán hạng là  3 . . .\n",
      "Số phần tử trong 1 cụm 1\n",
      "Đã lưu lịch sử.\n",
      "Đã lưu công thức\n",
      "Đã lưu lịch sử.\n",
      "Đã lưu công thức\n",
      "Đã lưu lịch sử.\n",
      "Đã lưu công thức\n",
      "Đã lưu lịch sử.\n",
      "Đã lưu công thức\n",
      "Đã lưu lịch sử.\n",
      "Đã lưu công thức\n",
      "Đã lưu lịch sử.\n",
      "Đã lưu công thức\n",
      "Đã lưu lịch sử.\n",
      "Đã lưu công thức\n",
      "Đã lưu lịch sử.\n",
      "Đã lưu công thức\n",
      "Đã lưu lịch sử.\n",
      "Đã lưu công thức\n",
      "Đã lưu lịch sử.\n",
      "Đã lưu công thức\n"
     ]
    },
    {
     "ename": "Exception",
     "evalue": "Đã sinh đủ công thức theo yêu cầu.",
     "output_type": "error",
     "traceback": [
      "\u001b[1;31m---------------------------------------------------------------------------\u001b[0m",
      "\u001b[1;31mException\u001b[0m                                 Traceback (most recent call last)",
      "Cell \u001b[1;32mIn[3], line 1\u001b[0m\n\u001b[1;32m----> 1\u001b[0m vis\u001b[39m.\u001b[39;49mgenerate_formula(\u001b[39m1.1\u001b[39;49m, \u001b[39m1000\u001b[39;49m, \u001b[39m10000\u001b[39;49m)\n",
      "File \u001b[1;32mc:\\Users\\AnnNg\\OneDrive\\Desktop\\VIS_Sinh_T3\\VIS_Sinh_T2\\complete_geo_add_rank_diff.py:257\u001b[0m, in \u001b[0;36mComplete_geo.generate_formula\u001b[1;34m(self, target_profit, formula_file_size, target_num_formula)\u001b[0m\n\u001b[0;32m    254\u001b[0m         \u001b[39mself\u001b[39m\u001b[39m.\u001b[39mlast_uoc_idx \u001b[39m=\u001b[39m i\n\u001b[0;32m    256\u001b[0m     \u001b[39mwhile\u001b[39;00m \u001b[39mself\u001b[39m\u001b[39m.\u001b[39mfill_operand(formula, struct, \u001b[39m0\u001b[39m, np\u001b[39m.\u001b[39mzeros(\u001b[39mself\u001b[39m\u001b[39m.\u001b[39mOPERAND\u001b[39m.\u001b[39mshape[\u001b[39m1\u001b[39m]), \u001b[39m0\u001b[39m, np\u001b[39m.\u001b[39mzeros(\u001b[39mself\u001b[39m\u001b[39m.\u001b[39mOPERAND\u001b[39m.\u001b[39mshape[\u001b[39m1\u001b[39m]), target_profit, \u001b[39m0\u001b[39m, \u001b[39mFalse\u001b[39;00m, \u001b[39mFalse\u001b[39;00m):\n\u001b[1;32m--> 257\u001b[0m         \u001b[39mself\u001b[39;49m\u001b[39m.\u001b[39;49msave_history()\n\u001b[0;32m    259\u001b[0m \u001b[39mif\u001b[39;00m \u001b[39mself\u001b[39m\u001b[39m.\u001b[39msave_history():\n\u001b[0;32m    260\u001b[0m     \u001b[39mbreak\u001b[39;00m\n",
      "File \u001b[1;32mc:\\Users\\AnnNg\\OneDrive\\Desktop\\VIS_Sinh_T3\\VIS_Sinh_T2\\complete_geo_add_rank_diff.py:304\u001b[0m, in \u001b[0;36mComplete_geo.save_history\u001b[1;34m(self)\u001b[0m\n\u001b[0;32m    302\u001b[0m \u001b[39mprint\u001b[39m(\u001b[39m\"\u001b[39m\u001b[39mĐã lưu công thức\u001b[39m\u001b[39m\"\u001b[39m)\n\u001b[0;32m    303\u001b[0m \u001b[39mif\u001b[39;00m \u001b[39mself\u001b[39m\u001b[39m.\u001b[39mcount[\u001b[39m2\u001b[39m] \u001b[39m>\u001b[39m\u001b[39m=\u001b[39m \u001b[39mself\u001b[39m\u001b[39m.\u001b[39mcount[\u001b[39m3\u001b[39m]:\n\u001b[1;32m--> 304\u001b[0m     \u001b[39mraise\u001b[39;00m \u001b[39mException\u001b[39;00m(\u001b[39m\"\u001b[39m\u001b[39mĐã sinh đủ công thức theo yêu cầu.\u001b[39m\u001b[39m\"\u001b[39m)\n\u001b[0;32m    306\u001b[0m \u001b[39mreturn\u001b[39;00m \u001b[39mFalse\u001b[39;00m\n",
      "\u001b[1;31mException\u001b[0m: Đã sinh đủ công thức theo yêu cầu."
     ]
    }
   ],
   "source": [
    "vis.generate_formula(1.1, 1000, 10000)"
   ]
  },
  {
   "cell_type": "code",
   "execution_count": null,
   "metadata": {},
   "outputs": [],
   "source": [
    "df = pd.read_csv(\"Data_CT/formula_02_03_2023_19_05_25.csv\")\n",
    "df[\"rank_diff\"].min(), df[\"rank_diff\"].max()"
   ]
  }
 ],
 "metadata": {
  "kernelspec": {
   "display_name": "Python 3",
   "language": "python",
   "name": "python3"
  },
  "language_info": {
   "codemirror_mode": {
    "name": "ipython",
    "version": 3
   },
   "file_extension": ".py",
   "mimetype": "text/x-python",
   "name": "python",
   "nbconvert_exporter": "python",
   "pygments_lexer": "ipython3",
   "version": "3.10.9"
  },
  "orig_nbformat": 4
 },
 "nbformat": 4,
 "nbformat_minor": 2
}
